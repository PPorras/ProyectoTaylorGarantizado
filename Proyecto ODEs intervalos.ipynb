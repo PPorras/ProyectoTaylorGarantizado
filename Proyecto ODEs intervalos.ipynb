{
 "cells": [
  {
   "cell_type": "code",
   "execution_count": 1,
   "metadata": {
    "collapsed": true
   },
   "outputs": [],
   "source": [
    "include(\"Intervalos.jl\")\n",
    "#include(\"Taylor9.jl\")\n",
    "using .Intervalos\n",
    "#using .Taylor9"
   ]
  },
  {
   "cell_type": "code",
   "execution_count": 2,
   "metadata": {
    "collapsed": true
   },
   "outputs": [],
   "source": [
    "mutable struct Taylor{T<:Real}\n",
    "    orden::Int64\n",
    "    coef::Array{T, 1}\n",
    "    function Taylor{T}(coef::Array{T,1}) where {T<:Real}\n",
    "        #@show coef, typeof(coef)\n",
    "        new(length(coef)-1, coef)\n",
    "    end\n",
    "end"
   ]
  },
  {
   "cell_type": "code",
   "execution_count": 3,
   "metadata": {
    "scrolled": false
   },
   "outputs": [
    {
     "data": {
      "text/plain": [
       "I[4.7, 9.9]\n"
      ]
     },
     "execution_count": 3,
     "metadata": {},
     "output_type": "execute_result"
    }
   ],
   "source": [
    "I1 = Intervalo(2,5)\n",
    "I2 = Intervalo(3,8)\n",
    "I3 = Intervalo(0,3.5)\n",
    "I4 = Intervalo(4.7,9.9)"
   ]
  },
  {
   "cell_type": "code",
   "execution_count": 4,
   "metadata": {
    "collapsed": true
   },
   "outputs": [],
   "source": [
    "import Base: +, -, *, /,^, getindex, setindex!,=="
   ]
  },
  {
   "cell_type": "code",
   "execution_count": 5,
   "metadata": {},
   "outputs": [
    {
     "data": {
      "text/plain": [
       "getindex (generic function with 192 methods)"
      ]
     },
     "execution_count": 5,
     "metadata": {},
     "output_type": "execute_result"
    }
   ],
   "source": [
    "function getindex(f::Taylor, i::Int64) \n",
    "    f.coef[i + 1]\n",
    "end"
   ]
  },
  {
   "cell_type": "code",
   "execution_count": 6,
   "metadata": {},
   "outputs": [
    {
     "data": {
      "text/plain": [
       "getindex (generic function with 193 methods)"
      ]
     },
     "execution_count": 6,
     "metadata": {},
     "output_type": "execute_result"
    }
   ],
   "source": [
    "function getindex(f::Taylor{T}, r::UnitRange{Int64}) where {T<:Real}\n",
    "    newcoef = f.coef[(r[1] +1): (r[end] +1)]\n",
    "    Taylor{T}(newcoef)\n",
    "end"
   ]
  },
  {
   "cell_type": "code",
   "execution_count": 7,
   "metadata": {},
   "outputs": [
    {
     "data": {
      "text/plain": [
       "setindex! (generic function with 83 methods)"
      ]
     },
     "execution_count": 7,
     "metadata": {},
     "output_type": "execute_result"
    }
   ],
   "source": [
    "function setindex!(f::Taylor, x::Real, i::Int64)\n",
    "    f.coef[i + 1] = x\n",
    "end"
   ]
  },
  {
   "cell_type": "code",
   "execution_count": 8,
   "metadata": {},
   "outputs": [
    {
     "data": {
      "text/plain": [
       "== (generic function with 143 methods)"
      ]
     },
     "execution_count": 8,
     "metadata": {},
     "output_type": "execute_result"
    }
   ],
   "source": [
    "function ==(f::Taylor, g::Taylor)\n",
    "    f.orden == g.orden && f.coef == g.coef  ? true : false\n",
    "end"
   ]
  },
  {
   "cell_type": "code",
   "execution_count": 9,
   "metadata": {},
   "outputs": [
    {
     "data": {
      "text/plain": [
       "+ (generic function with 167 methods)"
      ]
     },
     "execution_count": 9,
     "metadata": {},
     "output_type": "execute_result"
    }
   ],
   "source": [
    "function +(f::Taylor{T}, g::Taylor{T}) where {T<:Real}\n",
    "    if f.orden == g.orden\n",
    "        Taylor{T}(f.coef .+ g.coef)\n",
    "    elseif f.orden < g.orden\n",
    "        Taylor{T}(f.coef[1:f.orden + 1] .+ g.coef[1:f.orden + 1])\n",
    "    else\n",
    "        Taylor{T}(g.coef[1:g.orden + 1] .+ f.coef[1:g.orden + 1])\n",
    "    end\n",
    "end"
   ]
  },
  {
   "cell_type": "code",
   "execution_count": 10,
   "metadata": {},
   "outputs": [
    {
     "data": {
      "text/plain": [
       "- (generic function with 180 methods)"
      ]
     },
     "execution_count": 10,
     "metadata": {},
     "output_type": "execute_result"
    }
   ],
   "source": [
    "function -(f::Taylor{T}, g::Taylor{T}) where {T<:Real}\n",
    "    if f.orden == g.orden\n",
    "        Taylor{T}(f.coef .- g.coef)\n",
    "    elseif f.orden < g.orden\n",
    "        Taylor{T}(f.coef[1:f.orden + 1] .- g.coef[1:f.orden + 1])\n",
    "    else\n",
    "        Taylor{T}(-g.coef[1:g.orden + 1] .+ f.coef[1:g.orden + 1])\n",
    "    end\n",
    "end"
   ]
  },
  {
   "cell_type": "code",
   "execution_count": 11,
   "metadata": {},
   "outputs": [
    {
     "data": {
      "text/plain": [
       "Array{Float64,1}"
      ]
     },
     "execution_count": 11,
     "metadata": {},
     "output_type": "execute_result"
    }
   ],
   "source": [
    "typeof([2.0,3.0])"
   ]
  },
  {
   "cell_type": "code",
   "execution_count": 12,
   "metadata": {},
   "outputs": [
    {
     "data": {
      "text/plain": [
       "* (generic function with 343 methods)"
      ]
     },
     "execution_count": 12,
     "metadata": {},
     "output_type": "execute_result"
    }
   ],
   "source": [
    "function *(f::Taylor{T}, g::Taylor{T}) where {T<:Real}\n",
    "    f.orden != g.orden && error(\"Ordenes distintos\")\n",
    "    #∞newcoef = Array{T, 1}(f.orden + 1)\n",
    "    newcoef = Array{T,1}(UndefInitializer(), f.orden + 1)\n",
    "    for k in 0:f.orden \n",
    "        Taylori = 0.0\n",
    "        for i in 0:k\n",
    "            Taylori += f[i]*g[k - i]  \n",
    "        end\n",
    "        newcoef[k + 1] = Taylori \n",
    "    end\n",
    "    Taylor{T}(newcoef)\n",
    "end"
   ]
  },
  {
   "cell_type": "code",
   "execution_count": 13,
   "metadata": {},
   "outputs": [
    {
     "data": {
      "text/plain": [
       "/ (generic function with 108 methods)"
      ]
     },
     "execution_count": 13,
     "metadata": {},
     "output_type": "execute_result"
    }
   ],
   "source": [
    "function /(f::Taylor{T}, g::Taylor{T}) where {T<:Real}\n",
    "    f.orden != g.orden && error(\"Ordenes distintos\")\n",
    "    #newcoef = Array{T, 1}(f.orden + 1)\n",
    "    newcoef = Array{T,1}(UndefInitializer(), f.orden + 1)\n",
    "    for k in 0:f.orden \n",
    "        Taylori = f[k]\n",
    "        for i in 0:k - 1\n",
    "            Taylori -= (f[i]/g[i])*g[k - i]  \n",
    "        end\n",
    "        newcoef[k + 1] = Taylori/g[0] \n",
    "    end\n",
    "    Taylor{T}(newcoef)\n",
    "end"
   ]
  },
  {
   "cell_type": "code",
   "execution_count": 14,
   "metadata": {},
   "outputs": [
    {
     "data": {
      "text/plain": [
       "^ (generic function with 64 methods)"
      ]
     },
     "execution_count": 14,
     "metadata": {},
     "output_type": "execute_result"
    }
   ],
   "source": [
    "function ^(f::Taylor{T}, n::Int64) where {T<:Real}\n",
    "    newTaylor = f\n",
    "    for i in 1:n-1\n",
    "        newTaylor *= f\n",
    "    end\n",
    "    newTaylor\n",
    "end"
   ]
  },
  {
   "cell_type": "code",
   "execution_count": 15,
   "metadata": {},
   "outputs": [
    {
     "name": "stdout",
     "output_type": "stream",
     "text": [
      "I1 = Intervalo(2, 5) = I[2.0, 5.0]\n",
      "\n",
      "I2 = Intervalo(3, 8) = I[3.0, 8.0]\n",
      "\n"
     ]
    },
    {
     "data": {
      "text/plain": [
       "I[3.0, 8.0]\n"
      ]
     },
     "execution_count": 15,
     "metadata": {},
     "output_type": "execute_result"
    }
   ],
   "source": [
    "@show I1 = Intervalo(2,5)\n",
    "@show I2 = Intervalo(3,8)"
   ]
  },
  {
   "cell_type": "code",
   "execution_count": 16,
   "metadata": {},
   "outputs": [
    {
     "name": "stdout",
     "output_type": "stream",
     "text": [
      "Ii = Taylor{Intervalo}(1, Intervalo[I[2.0, 5.0]\n",
      ", I[3.0, 8.0]\n",
      "])\n"
     ]
    }
   ],
   "source": [
    "#I = Taylor([1.0,2.0])\n",
    "Ii = Taylor{Intervalo}([I1,I2])\n",
    "\n",
    "@show Ii;"
   ]
  },
  {
   "cell_type": "code",
   "execution_count": 17,
   "metadata": {},
   "outputs": [
    {
     "name": "stdout",
     "output_type": "stream",
     "text": [
      "Ii[0] = I[2.0, 5.0]\n",
      "\n"
     ]
    }
   ],
   "source": [
    "@show Ii[0];"
   ]
  },
  {
   "cell_type": "code",
   "execution_count": 18,
   "metadata": {
    "scrolled": true
   },
   "outputs": [
    {
     "name": "stdout",
     "output_type": "stream",
     "text": [
      "Ii = Taylor{Intervalo}(1, Intervalo[I[2.0, 5.0]\n",
      ", I[0.0, 0.0]\n",
      "])\n",
      "Ii == Taylor{Intervalo}([Intervalo(2, 5), Intervalo(0, 0)]) = true\n"
     ]
    },
    {
     "data": {
      "text/plain": [
       "true"
      ]
     },
     "execution_count": 18,
     "metadata": {},
     "output_type": "execute_result"
    }
   ],
   "source": [
    "Ii[1] = Intervalo(0,0)\n",
    "\n",
    "@show Ii\n",
    "\n",
    "@show Ii == Taylor{Intervalo}([Intervalo(2,5), Intervalo(0,0)])"
   ]
  },
  {
   "cell_type": "code",
   "execution_count": 19,
   "metadata": {},
   "outputs": [
    {
     "name": "stdout",
     "output_type": "stream",
     "text": [
      "(I1 + I3, I1 - I3) = (I[2.0, 8.5]\n",
      ", I[-1.5, 5.0]\n",
      ")\n",
      "(I2 + I4, I2 - I4) = (I[7.7, 17.9]\n",
      ", I[-6.9, 3.3]\n",
      ")\n",
      "Taylor{Intervalo}([I1, I2]) + Taylor{Intervalo}([I3, I4]) = Taylor{Intervalo}(1, Intervalo[I[2.0, 8.5]\n",
      ", I[7.7, 17.9]\n",
      "])\n",
      "Taylor{Intervalo}([I1, I2]) - Taylor{Intervalo}([I3, I4]) = Taylor{Intervalo}(1, Intervalo[I[-1.5, 5.0]\n",
      ", I[-6.9, 3.3]\n",
      "])\n"
     ]
    }
   ],
   "source": [
    "@show I1 + I3, I1 - I3\n",
    "@show I2 + I4, I2 - I4\n",
    "@show Taylor{Intervalo}([I1,I2]) + Taylor{Intervalo}([I3,I4])\n",
    "@show Taylor{Intervalo}([I1,I2]) - Taylor{Intervalo}([I3,I4]);"
   ]
  },
  {
   "cell_type": "code",
   "execution_count": 20,
   "metadata": {},
   "outputs": [
    {
     "name": "stdout",
     "output_type": "stream",
     "text": [
      "I[2.0, 5.0]\n",
      "I[3.0, 8.0]\n",
      "I[0.0, 3.5]\n",
      "I[4.7, 9.9]\n",
      "\n"
     ]
    }
   ],
   "source": [
    "println(I1,I2,I3,I4)"
   ]
  },
  {
   "cell_type": "code",
   "execution_count": 21,
   "metadata": {
    "scrolled": false
   },
   "outputs": [
    {
     "name": "stdout",
     "output_type": "stream",
     "text": [
      "Taylor{Intervalo}([I1, I2]) * Taylor{Intervalo}([I3, I4]) = Taylor{Intervalo}(1, Intervalo[I[0.0, 17.5]\n",
      ", I[9.4, 77.5]\n",
      "])\n"
     ]
    }
   ],
   "source": [
    "@show Taylor{Intervalo}([I1,I2]) * Taylor{Intervalo}([I3,I4])\n",
    "#@show Taylor{Intervalo}([I1,I2]) / Taylor{Intervalo}([I3,I4]);"
   ]
  },
  {
   "cell_type": "markdown",
   "metadata": {},
   "source": [
    "# El integrador numérico"
   ]
  },
  {
   "cell_type": "code",
   "execution_count": 100,
   "metadata": {
    "scrolled": true
   },
   "outputs": [
    {
     "data": {
      "text/plain": [
       "Picard (generic function with 2 methods)"
      ]
     },
     "execution_count": 100,
     "metadata": {},
     "output_type": "execute_result"
    }
   ],
   "source": [
    "function paso(x::Taylor{T}) where {T<:Real}\n",
    "    p = length(x.coef) - 1\n",
    "    (1.0e-32/(abs(x[p])))^(1/p)\n",
    "end\n",
    "\n",
    "function horner(P::Taylor{T}, x::Real) where {T<:Real}\n",
    "    result = 0.0\n",
    "    for i in P.orden:-1:0\n",
    "        result = (result * x) + P{T}[i]\n",
    "    end\n",
    "    result\n",
    "end\n",
    "\n",
    "function serieTaylor(f,  x0::T, orden::Int64=16) where {T<:Real}\n",
    "    newTaylor = Taylor{T}(Array{Intervalo,1}(UndefInitializer(),orden + 1))\n",
    "    #newTaylor = Taylor{T}(Array{Intervalo, 1}(orden + 1))\n",
    "    newTaylor[0] = x0\n",
    "    newTaylor[1] = f(x0)\n",
    "    for i in 2:orden\n",
    "        x0 = newTaylor[0:i]\n",
    "        newTaylor[i] = (f(x0)[i-1])/(i)\n",
    "    end\n",
    "    newTaylor\n",
    "end\n",
    "\n",
    "\n",
    "function serieTaylor(f,  x0::T, t0::Real, orden::Int64=16) where {T<:Real}\n",
    "    newTaylor = Taylor{T}(Array{Intervalo,1}(UndefInitializer(),orden + 1))\n",
    "    #newTaylor = Taylor{T}(Array{Intervalo, 1}(orden + 1))\n",
    "    newTaylor[0] = x0\n",
    "    newTaylor[1] = f(x0, t0)\n",
    "    for i in 2:orden\n",
    "        x0 = newTaylor[0:i]\n",
    "        newTaylor[i] = (f(x0, t0)[i-1])/(i)\n",
    "    end\n",
    "    newTaylor\n",
    "end\n",
    "\n",
    "function taylorIntegration(f, x0::T, t0::Real ,orden::Int64=32) where {T<:Real}\n",
    "    Ta = serieTaylor(f, x0, t0, orden)\n",
    "    t = paso(Ta)\n",
    "    x = horner(Ta, t)\n",
    "    x, t + t0\n",
    "end\n",
    "\n",
    "function Picard(f, x0::T, t::Real, orden::Int64=32) where {T<:Real}\n",
    "    x0new = Taylor{T}(Array{Intervalo, 1}(orden + 1))\n",
    "    x0new[0] = x0\n",
    "    x0new[1] = f(x0)\n",
    "    for i in 2: orden \n",
    "        x0 = x0new[0:i]\n",
    "        x0new[i] = (f(x0)[i-1])/(i)\n",
    "    end\n",
    "    horner(x0new, t)\n",
    "end"
   ]
  },
  {
   "cell_type": "code",
   "execution_count": 102,
   "metadata": {},
   "outputs": [
    {
     "data": {
      "text/plain": [
       "Taylor{Intervalo}(16, Intervalo[I[0.0, 0.111111]\n",
       ", I[0.0, 0.0123457]\n",
       ", I[0.0, 0.00137174]\n",
       ", I[0.0, 0.000152416]\n",
       ", I[0.0, 1.69351e-5]\n",
       ", I[0.0, 1.88168e-6]\n",
       ", I[0.0, 2.09075e-7]\n",
       ", I[0.0, 2.32306e-8]\n",
       ", I[0.0, 2.58117e-9]\n",
       ", I[0.0, 2.86797e-10]\n",
       ", I[0.0, 3.18664e-11]\n",
       ", I[0.0, 3.54071e-12]\n",
       ", I[0.0, 3.93412e-13]\n",
       ", I[0.0, 4.37124e-14]\n",
       ", I[0.0, 4.85694e-15]\n",
       ", I[0.0, 5.3966e-16]\n",
       ", I[0.0, 5.99622e-17]\n",
       "])"
      ]
     },
     "execution_count": 102,
     "metadata": {},
     "output_type": "execute_result"
    }
   ],
   "source": [
    "f(x) = x^2  \n",
    "X0 = Intervalo(0.0,1/9)\n",
    "\n",
    "a = serieTaylor(f, X0)"
   ]
  },
  {
   "cell_type": "markdown",
   "metadata": {},
   "source": [
    "## Prueba con `TaylorSeries`"
   ]
  },
  {
   "cell_type": "code",
   "execution_count": 72,
   "metadata": {
    "collapsed": true
   },
   "outputs": [],
   "source": [
    "using TaylorSeries"
   ]
  },
  {
   "cell_type": "code",
   "execution_count": 73,
   "metadata": {},
   "outputs": [
    {
     "data": {
      "text/plain": [
       "∫⬩dt (generic function with 1 method)"
      ]
     },
     "execution_count": 73,
     "metadata": {},
     "output_type": "execute_result"
    }
   ],
   "source": [
    "∫⬩dt(u::Taylor1) = integrate(u)"
   ]
  },
  {
   "cell_type": "code",
   "execution_count": 74,
   "metadata": {},
   "outputs": [
    {
     "data": {
      "text/plain": [
       "taylor_step (generic function with 1 method)"
      ]
     },
     "execution_count": 74,
     "metadata": {},
     "output_type": "execute_result"
    }
   ],
   "source": [
    "function taylor_step(f, u0)\n",
    "\n",
    "    u = copy(u0)\n",
    "    unew = u0 + ∫⬩dt(f(u))\n",
    "\n",
    "    while unew != u\n",
    "        u = unew\n",
    "        unew = u0 + ∫⬩dt(f(u))   # Picard iteration\n",
    "    end\n",
    "    \n",
    "    return u\n",
    "end"
   ]
  },
  {
   "cell_type": "code",
   "execution_count": 97,
   "metadata": {},
   "outputs": [
    {
     "data": {
      "text/plain": [
       " 0.1111111111111111 + 0.012345679012345678 t + 0.0013717421124828531 t² + 0.00015241579027587256 t³ + 1.6935087808430286e-5 t⁴ + 1.8816764231589206e-6 t⁵ + 2.0907515812876894e-7 t⁶ + 2.3230573125418767e-8 t⁷ + 2.5811747917131966e-9 t⁸ + 2.867971990792441e-10 t⁹ + 3.186635545324934e-11 t¹⁰ + 3.5407061614721493e-12 t¹¹ + 3.934117957191276e-13 t¹² + 4.371242174656973e-14 t¹³ + 4.85693574961886e-15 t¹⁴ + 5.396595277354286e-16 t¹⁵ + 5.996216974838096e-17 t¹⁶ + 𝒪(t¹⁷)"
      ]
     },
     "execution_count": 97,
     "metadata": {},
     "output_type": "execute_result"
    }
   ],
   "source": [
    "f(x) = x^2\n",
    "\n",
    "degree = 16\n",
    "\n",
    "u0 = Taylor1([1/9], degree)\n",
    "\n",
    "soln = taylor_step(f, u0)"
   ]
  },
  {
   "cell_type": "code",
   "execution_count": 108,
   "metadata": {},
   "outputs": [
    {
     "data": {
      "text/plain": [
       "5.996216974838096e-17"
      ]
     },
     "execution_count": 108,
     "metadata": {},
     "output_type": "execute_result"
    }
   ],
   "source": [
    "a[16].sup"
   ]
  },
  {
   "cell_type": "code",
   "execution_count": null,
   "metadata": {
    "collapsed": true
   },
   "outputs": [],
   "source": []
  },
  {
   "cell_type": "code",
   "execution_count": null,
   "metadata": {
    "collapsed": true
   },
   "outputs": [],
   "source": []
  },
  {
   "cell_type": "code",
   "execution_count": null,
   "metadata": {
    "collapsed": true
   },
   "outputs": [],
   "source": []
  },
  {
   "cell_type": "code",
   "execution_count": null,
   "metadata": {
    "collapsed": true
   },
   "outputs": [],
   "source": []
  },
  {
   "cell_type": "code",
   "execution_count": null,
   "metadata": {
    "collapsed": true
   },
   "outputs": [],
   "source": []
  }
 ],
 "metadata": {
  "@webio": {
   "lastCommId": null,
   "lastKernelId": null
  },
  "kernelspec": {
   "display_name": "Julia 1.0.3",
   "language": "julia",
   "name": "julia-1.0"
  },
  "language_info": {
   "file_extension": ".jl",
   "mimetype": "application/julia",
   "name": "julia",
   "version": "1.0.3"
  }
 },
 "nbformat": 4,
 "nbformat_minor": 2
}
